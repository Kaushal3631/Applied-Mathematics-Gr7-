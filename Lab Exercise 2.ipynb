{
 "cells": [
  {
   "cell_type": "markdown",
   "metadata": {},
   "source": [
    "## <p style=\"font-family: Arial; font-size:3em;color:black;\"> Lab Exercise 2 </p>"
   ]
  },
  {
   "cell_type": "code",
   "execution_count": 7,
   "metadata": {},
   "outputs": [
    {
     "data": {
      "image/png": "[encoded data removed]",
      "text/plain": [
       "<Figure size 640x480 with 1 Axes>"
      ]
     },
     "metadata": {},
     "output_type": "display_data"
    }
   ],
   "source": [
    "%matplotlib inline\n",
    "import numpy as np\n",
    "import matplotlib.pyplot as plt\n",
    "\n",
    "# # of hours a AI student spends on their courses in a month\n",
    "np.random.seed(10)\n",
    "no_hours = np.random.normal(40.0, 10.0, 10000)\n",
    "\n",
    "plt.hist(no_hours, 50)\n",
    "plt.show()"
   ]
  },
  {
   "cell_type": "code",
   "execution_count": 9,
   "metadata": {},
   "outputs": [
    {
     "name": "stdout",
     "output_type": "stream",
     "text": [
      "Mean: 39.822897530936544\n",
      "Standard Deviation: 9.904622950586761\n",
      "Variance: 98.10155579328999\n"
     ]
    }
   ],
   "source": [
    "# Calculate and report the mean, std, and var of the data shown above.\n",
    "mean_hours = np.mean(no_hours) # to find the mean \n",
    "std_deviation = np.std(no_hours) # to find the std\n",
    "variance = np.var(no_hours) # to find the var\n",
    "\n",
    "print(f\"Mean: {mean_hours}\")\n",
    "print(f\"Standard Deviation: {std_deviation}\")\n",
    "print(f\"Variance: {variance}\")\n",
    "\n",
    "# What is the theoretical relationship between std and var? Do the numbers reperted in the previous step agree with your expectation?\n",
    "\n",
    "# Answer:The Theoretical relationship between standard variation & variable is that standard variation is always the squre root of variance\n",
    "# i.e. standard variation = sqrt(variance)\n",
    "# also to check/prove our theoritical relation, we have to do the calculation:\n",
    "# Through above equation we find out the value of both Standard Deviation and Variance ie. std = 9.896640127716951, var  = 97.94348581753738\n",
    "# Now,\n",
    "# as we know that, std = sqrt(var)\n",
    "# Also we can say that,\n",
    "# (std)^2 = var\n",
    "# by applying the values, (9.896640127716951)^2 = 97.94348581753738\n",
    "#  9.896640127716951*9.896640127716951 = 97.94348581753738\n",
    "# LHS = RHS; hence proved!!\n",
    "\n",
    "\n",
    "\n",
    "# Begin changing the different parameters on the normal function, discuss your observations as you change each input parameter.\n",
    "\n",
    "# OBSERVATIONS: To change the parameters of the data in np.random.normal,\n",
    "# First, when we are changing the mean value (40.0), it will impact the center of distribution\n",
    "# While changing the standard deviation value (10.0), it will affect how spread-out the data is. \n",
    "# and For the last, when we change the value of variance (1000), it will change the coarseness of the graph\n"
   ]
  },
  {
   "cell_type": "code",
   "execution_count": null,
   "metadata": {},
   "outputs": [],
   "source": []
  },
  {
   "cell_type": "code",
   "execution_count": null,
   "metadata": {},
   "outputs": [],
   "source": []
  }
 ],
 "metadata": {
  "kernelspec": {
   "display_name": "Python 3 (ipykernel)",
   "language": "python",
   "name": "python3"
  },
  "language_info": {
   "codemirror_mode": {
    "name": "ipython",
    "version": 3
   },
   "file_extension": ".py",
   "mimetype": "text/x-python",
   "name": "python",
   "nbconvert_exporter": "python",
   "pygments_lexer": "ipython3",
   "version": "3.11.4"
  }
 },
 "nbformat": 4,
 "nbformat_minor": 1
}
